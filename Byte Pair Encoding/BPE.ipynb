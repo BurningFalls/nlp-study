{
  "nbformat": 4,
  "nbformat_minor": 0,
  "metadata": {
    "colab": {
      "provenance": [],
      "authorship_tag": "ABX9TyPrbK10NOfrCJBni68KAbkl",
      "include_colab_link": true
    },
    "kernelspec": {
      "name": "python3",
      "display_name": "Python 3"
    },
    "language_info": {
      "name": "python"
    }
  },
  "cells": [
    {
      "cell_type": "markdown",
      "metadata": {
        "id": "view-in-github",
        "colab_type": "text"
      },
      "source": [
        "<a href=\"https://colab.research.google.com/github/BurningFalls/nlp-study/blob/main/Byte%20Pair%20Encoding/BPE.ipynb\" target=\"_parent\"><img src=\"https://colab.research.google.com/assets/colab-badge.svg\" alt=\"Open In Colab\"/></a>"
      ]
    },
    {
      "cell_type": "code",
      "source": [
        "def print_list(my_list):\n",
        "  for word in my_list:\n",
        "    for ch in word:\n",
        "      print(ch, end=' ')\n",
        "    print()\n",
        "\n",
        "def print_bilist(my_bilist):\n",
        "  for word in my_bilist:\n",
        "    for i in range(len(word)):\n",
        "      print(f'({word[i][0]}, {word[i][1]})', end = ' ')\n",
        "    print()\n",
        "\n",
        "def print_dict(my_dict):\n",
        "  idx = 0\n",
        "  for key, value in my_dict.items():\n",
        "    print(f'{key}: {value}', end='   ')\n",
        "    idx+=1\n",
        "    if idx % 3 == 0:\n",
        "      print()"
      ],
      "metadata": {
        "id": "8CGsZSLHhc94"
      },
      "execution_count": 124,
      "outputs": []
    },
    {
      "cell_type": "code",
      "execution_count": 125,
      "metadata": {
        "id": "2Hz-Vkp3aaEl"
      },
      "outputs": [],
      "source": [
        "sentence = \"경찰청 철창살은 외철창살이고 검찰청 철창살은 쌍철창살이다\""
      ]
    },
    {
      "cell_type": "code",
      "source": [
        "word_list = sentence.split()\n",
        "print(*word_list, sep='\\n')"
      ],
      "metadata": {
        "colab": {
          "base_uri": "https://localhost:8080/"
        },
        "id": "vM2BEuFvau8R",
        "outputId": "52feac06-ac51-4243-9947-d546b8de3c3e"
      },
      "execution_count": 126,
      "outputs": [
        {
          "output_type": "stream",
          "name": "stdout",
          "text": [
            "경찰청\n",
            "철창살은\n",
            "외철창살이고\n",
            "검찰청\n",
            "철창살은\n",
            "쌍철창살이다\n"
          ]
        }
      ]
    },
    {
      "cell_type": "code",
      "source": [
        "for idx, word in enumerate(word_list):\n",
        "  ch_list = list()\n",
        "  for idx2, ch in enumerate(word):\n",
        "    if idx2 != 0:\n",
        "      ch = \"##\" + ch\n",
        "    ch_list.append(ch)\n",
        "  word_list[idx] = ch_list\n",
        "\n",
        "print_list(word_list)"
      ],
      "metadata": {
        "colab": {
          "base_uri": "https://localhost:8080/"
        },
        "id": "JGL_PqnfbDp4",
        "outputId": "c01250db-f09b-4423-8ad9-970ddbf402a4"
      },
      "execution_count": 127,
      "outputs": [
        {
          "output_type": "stream",
          "name": "stdout",
          "text": [
            "경 ##찰 ##청 \n",
            "철 ##창 ##살 ##은 \n",
            "외 ##철 ##창 ##살 ##이 ##고 \n",
            "검 ##찰 ##청 \n",
            "철 ##창 ##살 ##은 \n",
            "쌍 ##철 ##창 ##살 ##이 ##다 \n"
          ]
        }
      ]
    },
    {
      "cell_type": "markdown",
      "source": [
        "여기로 다시 돌아와서 iteration 수행"
      ],
      "metadata": {
        "id": "uRZW2CU5vfqS"
      }
    },
    {
      "cell_type": "code",
      "source": [
        "vocab = set()\n",
        "for word in word_list:\n",
        "  for ch in word:\n",
        "    vocab.add(ch)\n",
        "\n",
        "print(f'vocab = {vocab}')"
      ],
      "metadata": {
        "colab": {
          "base_uri": "https://localhost:8080/"
        },
        "id": "CQOVUApGcKgR",
        "outputId": "d820d829-9b4c-4e92-972b-658388f33445"
      },
      "execution_count": 144,
      "outputs": [
        {
          "output_type": "stream",
          "name": "stdout",
          "text": [
            "vocab = {'검', '##이', '##창살', '쌍', '##찰청', '##은', '##고', '경', '##철', '외', '##다', '철창살'}\n"
          ]
        }
      ]
    },
    {
      "cell_type": "code",
      "source": [
        "bigram_list = list()\n",
        "\n",
        "for word in word_list:\n",
        "  tmp_list = list()\n",
        "  for i in range(len(word) - 1):\n",
        "    tmp_list.append([word[i], word[i+1]])\n",
        "  bigram_list.append(tmp_list)\n",
        "\n",
        "print_bilist(bigram_list)"
      ],
      "metadata": {
        "colab": {
          "base_uri": "https://localhost:8080/"
        },
        "id": "NrmB6mG6eTnR",
        "outputId": "aa36cae3-a1b8-4f18-9383-e26c51c60793"
      },
      "execution_count": 140,
      "outputs": [
        {
          "output_type": "stream",
          "name": "stdout",
          "text": [
            "(경, ##찰청) \n",
            "(철, ##창살) (##창살, ##은) \n",
            "(외, ##철) (##철, ##창살) (##창살, ##이) (##이, ##고) \n",
            "(검, ##찰청) \n",
            "(철, ##창살) (##창살, ##은) \n",
            "(쌍, ##철) (##철, ##창살) (##창살, ##이) (##이, ##다) \n"
          ]
        }
      ]
    },
    {
      "cell_type": "code",
      "source": [
        "freq = dict()\n",
        "for bigram in bigram_list:\n",
        "  for ch in bigram:\n",
        "    tup = (ch[0], ch[1])\n",
        "    if tup in freq:\n",
        "      freq[tup] += 1\n",
        "    elif tup not in freq:\n",
        "      freq[tup] = 1\n",
        "\n",
        "print_dict(freq)"
      ],
      "metadata": {
        "colab": {
          "base_uri": "https://localhost:8080/"
        },
        "id": "bwjKDCGShO6y",
        "outputId": "36fa70a6-08c8-4b4e-f0e9-2d0cdcfb65b5"
      },
      "execution_count": 141,
      "outputs": [
        {
          "output_type": "stream",
          "name": "stdout",
          "text": [
            "('경', '##찰청'): 1   ('철', '##창살'): 2   ('##창살', '##은'): 2   \n",
            "('외', '##철'): 1   ('##철', '##창살'): 2   ('##창살', '##이'): 2   \n",
            "('##이', '##고'): 1   ('검', '##찰청'): 1   ('쌍', '##철'): 1   \n",
            "('##이', '##다'): 1   "
          ]
        }
      ]
    },
    {
      "cell_type": "code",
      "source": [
        "max_key = ''\n",
        "maxi = 0\n",
        "for key, value in freq.items():\n",
        "  if maxi < value:\n",
        "    maxi = value\n",
        "    max_key = key\n",
        "\n",
        "print(f'{max_key}: {maxi}')"
      ],
      "metadata": {
        "colab": {
          "base_uri": "https://localhost:8080/"
        },
        "id": "cl-A2ypnlBVn",
        "outputId": "21bbecd4-f447-499a-c54a-fbb3390522e9"
      },
      "execution_count": 142,
      "outputs": [
        {
          "output_type": "stream",
          "name": "stdout",
          "text": [
            "('철', '##창살'): 2\n"
          ]
        }
      ]
    },
    {
      "cell_type": "code",
      "source": [
        "def Concat_Word(word1, word2):\n",
        "  ans = \"\"\n",
        "  if word1[0] == '#':\n",
        "    ans += \"##\"\n",
        "    for i in range(2, len(word1)):\n",
        "      ans += word1[i]\n",
        "  else:\n",
        "    ans += word1\n",
        "  if word2[0] == '#':\n",
        "    for i in range(2, len(word2)):\n",
        "      ans += word2[i]\n",
        "  else:\n",
        "    ans += word2\n",
        "  return ans\n",
        "  \n",
        "\n",
        "for pos, word in enumerate(word_list):\n",
        "  tmp_list = list()\n",
        "  idx = 0\n",
        "  while(idx < len(word)):\n",
        "    if word[idx] == max_key[0] and word[idx + 1] == max_key[1]:\n",
        "      tmp_list.append(Concat_Word(word[idx], word[idx + 1]))\n",
        "      idx += 2\n",
        "    else:\n",
        "      tmp_list.append(word[idx])\n",
        "      idx += 1\n",
        "  word_list[pos] = tmp_list\n",
        "\n",
        "print_list(word_list)"
      ],
      "metadata": {
        "colab": {
          "base_uri": "https://localhost:8080/"
        },
        "id": "tAnoy5wCnUJP",
        "outputId": "d431979a-5c08-496e-80d7-eefc56610b80"
      },
      "execution_count": 143,
      "outputs": [
        {
          "output_type": "stream",
          "name": "stdout",
          "text": [
            "경 ##찰청 \n",
            "철창살 ##은 \n",
            "외 ##철 ##창살 ##이 ##고 \n",
            "검 ##찰청 \n",
            "철창살 ##은 \n",
            "쌍 ##철 ##창살 ##이 ##다 \n"
          ]
        }
      ]
    }
  ]
}